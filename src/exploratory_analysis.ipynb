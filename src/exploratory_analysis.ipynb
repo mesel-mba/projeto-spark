{
 "cells": [
  {
   "cell_type": "markdown",
   "metadata": {},
   "source": [
    "# Exercicio PySpark\n",
    "\n",
    "Exercicio proposto para a aula de Storage."
   ]
  },
  {
   "cell_type": "code",
   "execution_count": 1,
   "metadata": {},
   "outputs": [
    {
     "name": "stdout",
     "output_type": "stream",
     "text": [
      "Requirement already satisfied: pyspark in /opt/anaconda3/lib/python3.6/site-packages (3.2.4)\r\n",
      "Requirement already satisfied: findspark in /opt/anaconda3/lib/python3.6/site-packages (2.0.1)\r\n",
      "Requirement already satisfied: py4j==0.10.9.5 in /opt/anaconda3/lib/python3.6/site-packages (from pyspark) (0.10.9.5)\r\n"
     ]
    }
   ],
   "source": [
    "!pip install pyspark findspark"
   ]
  },
  {
   "cell_type": "code",
   "execution_count": 59,
   "metadata": {},
   "outputs": [
    {
     "name": "stdout",
     "output_type": "stream",
     "text": [
      "Safe mode is OFF\n",
      "mkdir: `/user/root': File exists\n",
      "put: `/user/root/titanic-dataset.csv': File exists\n"
     ]
    }
   ],
   "source": [
    "!hdfs dfsadmin -safemode leave\n",
    "!hdfs dfs -mkdir /user/root/\n",
    "!hdfs dfs -put /mnt/notebooks/src/titanic-dataset.csv /user/root/titanic-dataset.csv"
   ]
  },
  {
   "cell_type": "code",
   "execution_count": 60,
   "metadata": {},
   "outputs": [
    {
     "data": {
      "text/plain": [
       "'/opt/spark'"
      ]
     },
     "execution_count": 60,
     "metadata": {},
     "output_type": "execute_result"
    }
   ],
   "source": [
    "import findspark\n",
    "findspark.init()\n",
    "findspark.find()"
   ]
  },
  {
   "cell_type": "code",
   "execution_count": 61,
   "metadata": {},
   "outputs": [],
   "source": [
    "from pyspark.sql import SparkSession\n",
    "from pyspark.sql.functions import *\n",
    "from pyspark.sql.types import *\n",
    "\n",
    "spark = SparkSession.builder.appName('SparkByExamples.com').getOrCreate()"
   ]
  },
  {
   "cell_type": "code",
   "execution_count": 62,
   "metadata": {},
   "outputs": [],
   "source": [
    "from pprint import pprint"
   ]
  },
  {
   "cell_type": "code",
   "execution_count": 84,
   "metadata": {},
   "outputs": [],
   "source": [
    "df = spark.read.format(\"csv\").option(\"header\",\"true\").load(\"titanic-dataset.csv\")"
   ]
  },
  {
   "cell_type": "markdown",
   "metadata": {},
   "source": [
    "### Renomeando colunas para ficar mais amigável"
   ]
  },
  {
   "cell_type": "code",
   "execution_count": 87,
   "metadata": {},
   "outputs": [],
   "source": [
    "df = df.withColumnRenamed(\n",
    "    \"PassengerId\", \"passenger_id\"\n",
    ").withColumnRenamed(\n",
    "    \"Survived\", \"survived\"\n",
    ").withColumnRenamed(\n",
    "    \"Pclass\", \"passenger_class\"\n",
    ").withColumnRenamed(\n",
    "    \"Sex\", \"sex\"\n",
    ").withColumnRenamed(\n",
    "    \"Age\", \"age\"\n",
    ").withColumnRenamed(\n",
    "    \"SibSp\", \"siblings_and_spouses\"\n",
    ").withColumnRenamed(\n",
    "    \"Parch\", \"number_of_parents_or_children_onboard\"\n",
    ").withColumnRenamed(\n",
    "    \"Ticket\", \"ticket\"\n",
    ").withColumnRenamed(\n",
    "    \"Fare\", \"fare\"\n",
    ").withColumnRenamed(\n",
    "    \"Cabin\", \"cabin\"\n",
    ").withColumnRenamed(\n",
    "    \"Embarked\", \"port_of_origin\"\n",
    ").withColumn(\n",
    "    \"port_of_origin\", when(\n",
    "        col(\"port_of_origin\") == \"C\",\"Cherbourg\"\n",
    "    ).when(\n",
    "        col(\"port_of_origin\") == \"Q\",\"Queenstown\"\n",
    "    ).when(\n",
    "        col(\"port_of_origin\") == \"S\",\"Southampton\"\n",
    "    )\n",
    ").withColumn(\n",
    "    \"survived\", when(\n",
    "        col(\"survived\") == 1, True\n",
    "    ).when(\n",
    "        col(\"survived\") == 0, False\n",
    "    )\n",
    ")"
   ]
  },
  {
   "cell_type": "markdown",
   "metadata": {},
   "source": [
    "### Analise do dataset"
   ]
  },
  {
   "cell_type": "code",
   "execution_count": 88,
   "metadata": {},
   "outputs": [
    {
     "name": "stdout",
     "output_type": "stream",
     "text": [
      "+------------+--------+---------------+--------------------+------+---+--------------------+-------------------------------------+----------------+-------+-----+--------------+\n",
      "|passenger_id|survived|passenger_class|                Name|   sex|age|siblings_and_spouses|number_of_parents_or_children_onboard|          ticket|   fare|cabin|port_of_origin|\n",
      "+------------+--------+---------------+--------------------+------+---+--------------------+-------------------------------------+----------------+-------+-----+--------------+\n",
      "|           1|   false|              3|Braund, Mr. Owen ...|  male| 22|                   1|                                    0|       A/5 21171|   7.25| null|   Southampton|\n",
      "|           2|    true|              1|Cumings, Mrs. Joh...|female| 38|                   1|                                    0|        PC 17599|71.2833|  C85|     Cherbourg|\n",
      "|           3|    true|              3|Heikkinen, Miss. ...|female| 26|                   0|                                    0|STON/O2. 3101282|  7.925| null|   Southampton|\n",
      "|           4|    true|              1|Futrelle, Mrs. Ja...|female| 35|                   1|                                    0|          113803|   53.1| C123|   Southampton|\n",
      "|           5|   false|              3|Allen, Mr. Willia...|  male| 35|                   0|                                    0|          373450|   8.05| null|   Southampton|\n",
      "+------------+--------+---------------+--------------------+------+---+--------------------+-------------------------------------+----------------+-------+-----+--------------+\n",
      "\n"
     ]
    }
   ],
   "source": [
    "df.limit(5).show() # Preview do dataset"
   ]
  },
  {
   "cell_type": "code",
   "execution_count": 95,
   "metadata": {},
   "outputs": [
    {
     "name": "stdout",
     "output_type": "stream",
     "text": [
      "root\n",
      " |-- passenger_id: string (nullable = true)\n",
      " |-- survived: boolean (nullable = true)\n",
      " |-- passenger_class: string (nullable = true)\n",
      " |-- Name: string (nullable = true)\n",
      " |-- sex: string (nullable = true)\n",
      " |-- age: string (nullable = true)\n",
      " |-- siblings_and_spouses: string (nullable = true)\n",
      " |-- number_of_parents_or_children_onboard: string (nullable = true)\n",
      " |-- ticket: string (nullable = true)\n",
      " |-- fare: string (nullable = true)\n",
      " |-- cabin: string (nullable = true)\n",
      " |-- port_of_origin: string (nullable = true)\n",
      "\n"
     ]
    }
   ],
   "source": [
    "df.printSchema() # Schema do modelo"
   ]
  },
  {
   "cell_type": "code",
   "execution_count": 90,
   "metadata": {},
   "outputs": [
    {
     "name": "stdout",
     "output_type": "stream",
     "text": [
      "+--------+-----+\n",
      "|survived|count|\n",
      "+--------+-----+\n",
      "|    true|  342|\n",
      "|   false|  549|\n",
      "+--------+-----+\n",
      "\n"
     ]
    }
   ],
   "source": [
    "df.groupBy(col(\"survived\")).count().show() # Quantidade de pessoas que sobreviveram ao Titanic"
   ]
  },
  {
   "cell_type": "code",
   "execution_count": 91,
   "metadata": {},
   "outputs": [
    {
     "name": "stdout",
     "output_type": "stream",
     "text": [
      "+--------+------+-----+\n",
      "|survived|   sex|count|\n",
      "+--------+------+-----+\n",
      "|   false|female|   81|\n",
      "|    true|  male|  109|\n",
      "|    true|female|  233|\n",
      "|   false|  male|  468|\n",
      "+--------+------+-----+\n",
      "\n"
     ]
    }
   ],
   "source": [
    "df.groupBy(col(\"survived\"), col(\"sex\")).count().show() # Quantidade de pessoas que sobreviveram ao Titanic"
   ]
  },
  {
   "cell_type": "code",
   "execution_count": 92,
   "metadata": {},
   "outputs": [
    {
     "name": "stdout",
     "output_type": "stream",
     "text": [
      "+--------+------+---------------+-----+\n",
      "|survived|   sex|passenger_class|count|\n",
      "+--------+------+---------------+-----+\n",
      "|   false|  male|              1|   77|\n",
      "|    true|  male|              2|   17|\n",
      "|   false|female|              1|    3|\n",
      "|   false|female|              2|    6|\n",
      "|    true|female|              2|   70|\n",
      "|    true|  male|              3|   47|\n",
      "|   false|female|              3|   72|\n",
      "|    true|  male|              1|   45|\n",
      "|   false|  male|              2|   91|\n",
      "|    true|female|              3|   72|\n",
      "|   false|  male|              3|  300|\n",
      "|    true|female|              1|   91|\n",
      "+--------+------+---------------+-----+\n",
      "\n"
     ]
    }
   ],
   "source": [
    "df.groupBy(col(\"survived\"), col(\"sex\"), col(\"passenger_class\")).count().show()"
   ]
  },
  {
   "cell_type": "code",
   "execution_count": 93,
   "metadata": {},
   "outputs": [
    {
     "name": "stdout",
     "output_type": "stream",
     "text": [
      "+--------+------+--------------+-----+\n",
      "|survived|   sex|port_of_origin|count|\n",
      "+--------+------+--------------+-----+\n",
      "|   false|  male|    Queenstown|   38|\n",
      "|    true|female|    Queenstown|   27|\n",
      "|    true|female|   Southampton|  140|\n",
      "|   false|  male|     Cherbourg|   66|\n",
      "|    true|  male|   Southampton|   77|\n",
      "|   false|  male|   Southampton|  364|\n",
      "|    true|female|     Cherbourg|   64|\n",
      "|    true|  male|     Cherbourg|   29|\n",
      "|    true|  male|    Queenstown|    3|\n",
      "|    true|female|          null|    2|\n",
      "|   false|female|    Queenstown|    9|\n",
      "|   false|female|   Southampton|   63|\n",
      "|   false|female|     Cherbourg|    9|\n",
      "+--------+------+--------------+-----+\n",
      "\n"
     ]
    }
   ],
   "source": [
    "df.groupBy(col(\"survived\"), col(\"sex\"), col(\"port_of_origin\")).count().show()"
   ]
  },
  {
   "cell_type": "code",
   "execution_count": null,
   "metadata": {},
   "outputs": [],
   "source": []
  }
 ],
 "metadata": {
  "kernelspec": {
   "display_name": "Python 3",
   "language": "python",
   "name": "python3"
  },
  "language_info": {
   "codemirror_mode": {
    "name": "ipython",
    "version": 3
   },
   "file_extension": ".py",
   "mimetype": "text/x-python",
   "name": "python",
   "nbconvert_exporter": "python",
   "pygments_lexer": "ipython3",
   "version": "3.6.10"
  },
  "vscode": {
   "interpreter": {
    "hash": "369f2c481f4da34e4445cda3fffd2e751bd1c4d706f27375911949ba6bb62e1c"
   }
  }
 },
 "nbformat": 4,
 "nbformat_minor": 2
}
