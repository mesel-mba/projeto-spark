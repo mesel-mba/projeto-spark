{
 "cells": [
  {
   "cell_type": "code",
   "execution_count": 1,
   "metadata": {},
   "outputs": [],
   "source": [
    "from pyspark.sql import HiveContext"
   ]
  },
  {
   "cell_type": "code",
   "execution_count": 2,
   "metadata": {},
   "outputs": [],
   "source": [
    "sqlContext = HiveContext(sc)"
   ]
  },
  {
   "cell_type": "code",
   "execution_count": 16,
   "metadata": {},
   "outputs": [
    {
     "name": "stdout",
     "output_type": "stream",
     "text": [
      "+------------+\n",
      "|databaseName|\n",
      "+------------+\n",
      "|     default|\n",
      "+------------+\n",
      "\n"
     ]
    }
   ],
   "source": [
    "sqlContext.sql(\"show databases\").show()"
   ]
  },
  {
   "cell_type": "code",
   "execution_count": 17,
   "metadata": {},
   "outputs": [
    {
     "name": "stdout",
     "output_type": "stream",
     "text": [
      "++\n",
      "||\n",
      "++\n",
      "++\n",
      "\n"
     ]
    }
   ],
   "source": [
    "sqlContext.sql(\"\"\"drop table address\"\"\").show()"
   ]
  },
  {
   "cell_type": "code",
   "execution_count": 19,
   "metadata": {},
   "outputs": [
    {
     "name": "stdout",
     "output_type": "stream",
     "text": [
      "++\n",
      "||\n",
      "++\n",
      "++\n",
      "\n"
     ]
    }
   ],
   "source": [
    "sqlContext.sql(\"\"\"create external table address (\n",
    "AddressID int\n",
    ",addressLine1 string\n",
    ",addressLine2 string\n",
    ",city string\n",
    ",PostalCode string\n",
    ",rowguid string\n",
    ",ModifiedDate string\n",
    ")\n",
    "row format delimited fields terminated by ','\n",
    "LOCATION '/user/spark-aula/address'\n",
    "TBLPROPERTIES (\"skip.header.line.count\"=\"1\")\n",
    "\"\"\").show()"
   ]
  },
  {
   "cell_type": "code",
   "execution_count": 20,
   "metadata": {},
   "outputs": [
    {
     "name": "stdout",
     "output_type": "stream",
     "text": [
      "+---------+--------------------+------------+-----------+----------+--------------------+------------+\n",
      "|AddressID|        addressLine1|addressLine2|       city|PostalCode|             rowguid|ModifiedDate|\n",
      "+---------+--------------------+------------+-----------+----------+--------------------+------------+\n",
      "|     null|        AddressLine1|AddressLine2|       City|PostalCode|             rowguid|ModifiedDate|\n",
      "|        9|   8713 Yosemite Ct.|            |    Bothell|     98011|268AF621-76D7-4C7...|  01-07-2006|\n",
      "|       11| 1318 Lasalle Street|            |    Bothell|     98011|981B3303-ACA2-49C...|  01-04-2007|\n",
      "|       25|    9178 Jumping St.|            |     Dallas|     75201|C8DF3BD9-48F0-465...|  01-09-2006|\n",
      "|       28|    9228 Via Del Sol|            |    Phoenix|     85004|12AE5EE1-FC3E-468...|  01-09-2005|\n",
      "|       32|   26910 Indela Road|            |   Montreal|   H1Y 2H5|84A95F62-3AE8-4E7...|  01-08-2006|\n",
      "|      185|     2681 Eagle Peak|            |   Bellevue|     98004|7BCCF442-2268-46C...|  01-09-2006|\n",
      "|      297|     7943 Walnut Ave|            |     Renton|     98055|52410DA4-2778-4B1...|  01-08-2006|\n",
      "|      445|  6388 Lake City Way|            |    Burnaby|   V5A 3A6|53572F25-9133-4A8...|  01-09-2006|\n",
      "|      446|   52560 Free Street|            |    Toronto|   M4B 1V7|801A1DFC-5125-486...|  01-08-2005|\n",
      "|      447|   22580 Free Street|            |    Toronto|   M4B 1V7|88CEE379-DBB8-433...|  01-08-2006|\n",
      "|      448|2575 Bloor Street...|            |    Toronto|   M4B 1V6|2DF6D0AD-0926-4F3...|  01-08-2007|\n",
      "|      449|           Station E|            |Chalk Riber|   K0J 1J0|8B5A7729-CB75-430...|  01-08-2005|\n",
      "|      450|   575 Rue St Amable|            |     Quebec|       G1R|5F3C345A-6475-41D...|  01-09-2006|\n",
      "|      451|     2512-4th Ave Sw|            |    Calgary|   T2P 2G8|49644F1E-6F90-46D...|  01-12-2006|\n",
      "|      452|55 Lakeshore Blvd...|            |    Toronto|   M4B 1V6|A358652F-0E00-49E...|  01-09-2005|\n",
      "|      453|     6333 Cote Vertu|            |   Montreal|   H1Y 2H7|355681F2-4D9D-452...|  01-09-2007|\n",
      "|      454|3255 Front Street...|            |    Toronto|   M4B 1V6|EF4DC57D-8B8B-407...|  01-08-2007|\n",
      "|      455|   2550 Signet Drive|            |     Weston|   M9V 4W3|43D582CF-E95F-486...|  01-08-2006|\n",
      "|      456|       6777 Kingsway|            |    Burnaby|   V5H 3Z7|2F3B383E-08A5-407...|  01-08-2006|\n",
      "+---------+--------------------+------------+-----------+----------+--------------------+------------+\n",
      "only showing top 20 rows\n",
      "\n"
     ]
    }
   ],
   "source": [
    "sqlContext.sql(\"select * from address\").show()"
   ]
  },
  {
   "cell_type": "code",
   "execution_count": 21,
   "metadata": {},
   "outputs": [],
   "source": [
    "dfh = sqlContext.sql(\"select * from address\")"
   ]
  },
  {
   "cell_type": "code",
   "execution_count": 22,
   "metadata": {},
   "outputs": [
    {
     "name": "stdout",
     "output_type": "stream",
     "text": [
      "+---------+--------------------+------------+-----------+----------+--------------------+------------+\n",
      "|AddressID|        addressLine1|addressLine2|       city|PostalCode|             rowguid|ModifiedDate|\n",
      "+---------+--------------------+------------+-----------+----------+--------------------+------------+\n",
      "|     null|        AddressLine1|AddressLine2|       City|PostalCode|             rowguid|ModifiedDate|\n",
      "|        9|   8713 Yosemite Ct.|            |    Bothell|     98011|268AF621-76D7-4C7...|  01-07-2006|\n",
      "|       11| 1318 Lasalle Street|            |    Bothell|     98011|981B3303-ACA2-49C...|  01-04-2007|\n",
      "|       25|    9178 Jumping St.|            |     Dallas|     75201|C8DF3BD9-48F0-465...|  01-09-2006|\n",
      "|       28|    9228 Via Del Sol|            |    Phoenix|     85004|12AE5EE1-FC3E-468...|  01-09-2005|\n",
      "|       32|   26910 Indela Road|            |   Montreal|   H1Y 2H5|84A95F62-3AE8-4E7...|  01-08-2006|\n",
      "|      185|     2681 Eagle Peak|            |   Bellevue|     98004|7BCCF442-2268-46C...|  01-09-2006|\n",
      "|      297|     7943 Walnut Ave|            |     Renton|     98055|52410DA4-2778-4B1...|  01-08-2006|\n",
      "|      445|  6388 Lake City Way|            |    Burnaby|   V5A 3A6|53572F25-9133-4A8...|  01-09-2006|\n",
      "|      446|   52560 Free Street|            |    Toronto|   M4B 1V7|801A1DFC-5125-486...|  01-08-2005|\n",
      "|      447|   22580 Free Street|            |    Toronto|   M4B 1V7|88CEE379-DBB8-433...|  01-08-2006|\n",
      "|      448|2575 Bloor Street...|            |    Toronto|   M4B 1V6|2DF6D0AD-0926-4F3...|  01-08-2007|\n",
      "|      449|           Station E|            |Chalk Riber|   K0J 1J0|8B5A7729-CB75-430...|  01-08-2005|\n",
      "|      450|   575 Rue St Amable|            |     Quebec|       G1R|5F3C345A-6475-41D...|  01-09-2006|\n",
      "|      451|     2512-4th Ave Sw|            |    Calgary|   T2P 2G8|49644F1E-6F90-46D...|  01-12-2006|\n",
      "|      452|55 Lakeshore Blvd...|            |    Toronto|   M4B 1V6|A358652F-0E00-49E...|  01-09-2005|\n",
      "|      453|     6333 Cote Vertu|            |   Montreal|   H1Y 2H7|355681F2-4D9D-452...|  01-09-2007|\n",
      "|      454|3255 Front Street...|            |    Toronto|   M4B 1V6|EF4DC57D-8B8B-407...|  01-08-2007|\n",
      "|      455|   2550 Signet Drive|            |     Weston|   M9V 4W3|43D582CF-E95F-486...|  01-08-2006|\n",
      "|      456|       6777 Kingsway|            |    Burnaby|   V5H 3Z7|2F3B383E-08A5-407...|  01-08-2006|\n",
      "+---------+--------------------+------------+-----------+----------+--------------------+------------+\n",
      "only showing top 20 rows\n",
      "\n"
     ]
    }
   ],
   "source": [
    "dfh.show()"
   ]
  },
  {
   "cell_type": "code",
   "execution_count": 24,
   "metadata": {},
   "outputs": [],
   "source": [
    "df = spark.read.csv(\"/user/spark-aula/customer.csv\")"
   ]
  },
  {
   "cell_type": "code",
   "execution_count": 25,
   "metadata": {},
   "outputs": [
    {
     "name": "stdout",
     "output_type": "stream",
     "text": [
      "+----------+-----+------+--------------------+--------------------+--------------------+--------------------+------------+--------------------+------------+\n",
      "|       _c0|  _c1|   _c2|                 _c3|                 _c4|                 _c5|                 _c6|         _c7|                 _c8|         _c9|\n",
      "+----------+-----+------+--------------------+--------------------+--------------------+--------------------+------------+--------------------+------------+\n",
      "|CustomerID|Title|Suffix|         CompanyName|         SalesPerson|        EmailAddress|        PasswordHash|PasswordSalt|             rowguid|ModifiedDate|\n",
      "|         1|  Mr.|  null|        A Bike Store|adventure-works\\p...|orlando0@adventur...|L/Rlwxzp4w7RWmEgX...|    1KjXYs4=|3F5AE95E-B87D-4AE...|  01-08-2005|\n",
      "|         2|  Mr.|  null|  Progressive Sports|adventure-works\\d...|keith0@adventure-...|YPdtRdvqeAhj6wyxE...|    fs1ZGhY=|E552F657-A9AF-4A7...|  01-08-2006|\n",
      "|         3|  Ms.|  null|Advanced Bike Com...|adventure-works\\j...|donna0@adventure-...|LNoK27abGQo48gGue...|    YTNH5Rw=|130774B1-DB21-4EF...|  01-09-2005|\n",
      "|         4|  Ms.|  null|Modular Cycle Sys...|adventure-works\\j...|janet1@adventure-...|ElzTpSNbUW1Ut+L5c...|    nm7D5e4=|FF862851-1DAA-404...|  01-07-2006|\n",
      "|         5|  Mr.|  null|Metropolitan Spor...|adventure-works\\shu0|lucy0@adventure-w...|KJqV15wsX3PG8TS5G...|    cNFKU4w=|83905BDC-6F5E-4F7...|  01-09-2006|\n",
      "|         6|  Ms.|  null|Aerobic Exercise ...|adventure-works\\l...|rosmarie0@adventu...|OKT0scizCdIzymHHO...|    ihWf50M=|1A92DF88-BFA2-467...|  01-09-2007|\n",
      "|         7|  Mr.|  null|    Associated Bikes|adventure-works\\shu0|dominic0@adventur...|ZccoP/jZGQm+Xpzc7...|    sPoUBSQ=|03E9273E-B193-448...|  01-07-2006|\n",
      "|        10|  Ms.|  null|Rural Cycle Emporium|adventure-works\\j...|kathleen0@adventu...|Qa3aMCxNbVLGrc0b9...|    Ls05W3g=|CDB6698D-2FF1-4FB...|  01-09-2006|\n",
      "|        11|  Ms.|  null|         Sharp Bikes|adventure-works\\j...|katherine0@advent...|uRlorVzDGNJIX9I+e...|    jpHKbqE=|750F3495-59C4-48A...|  01-08-2005|\n",
      "|        12|  Mr.|   Jr.|Bikes and Motorbikes|adventure-works\\g...|johnny0@adventure...|jtF9jBoFYeJTaET7x...|    wVLnvHo=|947BCAF1-1F32-44F...|  01-08-2006|\n",
      "|        16|  Mr.|   Jr.| Bulk Discount Store|adventure-works\\jae0|christopher1@adve...|sKt9daCzEEKWAzivE...|    8KfYx/4=|C9381589-D31C-4EF...|  01-09-2006|\n",
      "|        18|  Mr.|  null|       Catalog Store|adventure-works\\m...|david20@adventure...|61zeTkO+eI5g8GG0s...|    c7Ttvv0=|C04D6B4D-94C6-4C5...|  01-08-2005|\n",
      "|        19|  Mr.|  null|   Center Cycle Shop|adventure-works\\p...|john8@adventure-w...|DzbqWX7B3EK5Dub92...|    zXNgrJw=|69AE5D43-31BE-4B7...|  01-04-2007|\n",
      "|        20|  Ms.|  null|Central Discount ...|adventure-works\\d...|jean1@adventure-w...|o1GVo3vExeNzo0/ct...|    uMsvfdo=|E010C10A-F1C3-4BB...|  01-09-2005|\n",
      "|        21| null|  null|Chic Department S...|adventure-works\\j...|jinghao1@adventur...|IaD5AeqK9mRiIrJi/...|    p6pOqKc=|564E0B42-4609-43D...|  01-09-2006|\n",
      "|        22|  Ms.|  null|      Travel Systems|adventure-works\\j...|linda4@adventure-...|23AwhujCoXYSPiN/B...|    SmyIPjE=|9774AED6-D673-412...|  01-08-2005|\n",
      "|        23|  Mr.|  null|          Bike World|adventure-works\\shu0|kerim0@adventure-...|d0WSjosAd7Y3XOWjN...|    33g5co8=|733F8250-3251-4C2...|  01-09-2006|\n",
      "|        24|  Mr.|  null|Eastside Departme...|adventure-works\\l...|kevin5@adventure-...|ylTpkIOHKLcjihNjS...|    TgZnUOg=|C111E51D-178D-4DB...|  01-09-2006|\n",
      "|        25|  Mr.|  null|Coalition Bike Co...|adventure-works\\shu0|donald0@adventure...|pKYDelLBOZMO98GBz...|    jKtOaOw=|31D03546-FB2A-448...|  01-09-2006|\n",
      "+----------+-----+------+--------------------+--------------------+--------------------+--------------------+------------+--------------------+------------+\n",
      "only showing top 20 rows\n",
      "\n"
     ]
    }
   ],
   "source": [
    "df.show()"
   ]
  },
  {
   "cell_type": "code",
   "execution_count": 26,
   "metadata": {},
   "outputs": [],
   "source": [
    "df = spark.read.option(\"delimiter\", \";\").csv(\"/user/spark-aula/customer.csv\")"
   ]
  },
  {
   "cell_type": "code",
   "execution_count": 27,
   "metadata": {},
   "outputs": [
    {
     "name": "stdout",
     "output_type": "stream",
     "text": [
      "+--------------------+\n",
      "|                 _c0|\n",
      "+--------------------+\n",
      "|CustomerID,Title,...|\n",
      "|1,Mr.,,A Bike Sto...|\n",
      "|2,Mr.,,Progressiv...|\n",
      "|3,Ms.,,Advanced B...|\n",
      "|4,Ms.,,Modular Cy...|\n",
      "|5,Mr.,,Metropolit...|\n",
      "|6,Ms.,,Aerobic Ex...|\n",
      "|7,Mr.,,Associated...|\n",
      "|10,Ms.,,Rural Cyc...|\n",
      "|11,Ms.,,Sharp Bik...|\n",
      "|12,Mr.,Jr.,Bikes ...|\n",
      "|16,Mr.,Jr.,Bulk D...|\n",
      "|18,Mr.,,Catalog S...|\n",
      "|19,Mr.,,Center Cy...|\n",
      "|20,Ms.,,Central D...|\n",
      "|21,,,Chic Departm...|\n",
      "|22,Ms.,,Travel Sy...|\n",
      "|23,Mr.,,Bike Worl...|\n",
      "|24,Mr.,,Eastside ...|\n",
      "|25,Mr.,,Coalition...|\n",
      "+--------------------+\n",
      "only showing top 20 rows\n",
      "\n"
     ]
    }
   ],
   "source": [
    "df.show()"
   ]
  },
  {
   "cell_type": "code",
   "execution_count": 30,
   "metadata": {},
   "outputs": [],
   "source": [
    "df = spark.read.csv(\"/user/spark-aula/customer.csv\", sep =',', header = True)"
   ]
  },
  {
   "cell_type": "code",
   "execution_count": 31,
   "metadata": {},
   "outputs": [
    {
     "name": "stdout",
     "output_type": "stream",
     "text": [
      "+----------+-----+------+--------------------+--------------------+--------------------+--------------------+------------+--------------------+------------+\n",
      "|CustomerID|Title|Suffix|         CompanyName|         SalesPerson|        EmailAddress|        PasswordHash|PasswordSalt|             rowguid|ModifiedDate|\n",
      "+----------+-----+------+--------------------+--------------------+--------------------+--------------------+------------+--------------------+------------+\n",
      "|         1|  Mr.|  null|        A Bike Store|adventure-works\\p...|orlando0@adventur...|L/Rlwxzp4w7RWmEgX...|    1KjXYs4=|3F5AE95E-B87D-4AE...|  01-08-2005|\n",
      "|         2|  Mr.|  null|  Progressive Sports|adventure-works\\d...|keith0@adventure-...|YPdtRdvqeAhj6wyxE...|    fs1ZGhY=|E552F657-A9AF-4A7...|  01-08-2006|\n",
      "|         3|  Ms.|  null|Advanced Bike Com...|adventure-works\\j...|donna0@adventure-...|LNoK27abGQo48gGue...|    YTNH5Rw=|130774B1-DB21-4EF...|  01-09-2005|\n",
      "|         4|  Ms.|  null|Modular Cycle Sys...|adventure-works\\j...|janet1@adventure-...|ElzTpSNbUW1Ut+L5c...|    nm7D5e4=|FF862851-1DAA-404...|  01-07-2006|\n",
      "|         5|  Mr.|  null|Metropolitan Spor...|adventure-works\\shu0|lucy0@adventure-w...|KJqV15wsX3PG8TS5G...|    cNFKU4w=|83905BDC-6F5E-4F7...|  01-09-2006|\n",
      "|         6|  Ms.|  null|Aerobic Exercise ...|adventure-works\\l...|rosmarie0@adventu...|OKT0scizCdIzymHHO...|    ihWf50M=|1A92DF88-BFA2-467...|  01-09-2007|\n",
      "|         7|  Mr.|  null|    Associated Bikes|adventure-works\\shu0|dominic0@adventur...|ZccoP/jZGQm+Xpzc7...|    sPoUBSQ=|03E9273E-B193-448...|  01-07-2006|\n",
      "|        10|  Ms.|  null|Rural Cycle Emporium|adventure-works\\j...|kathleen0@adventu...|Qa3aMCxNbVLGrc0b9...|    Ls05W3g=|CDB6698D-2FF1-4FB...|  01-09-2006|\n",
      "|        11|  Ms.|  null|         Sharp Bikes|adventure-works\\j...|katherine0@advent...|uRlorVzDGNJIX9I+e...|    jpHKbqE=|750F3495-59C4-48A...|  01-08-2005|\n",
      "|        12|  Mr.|   Jr.|Bikes and Motorbikes|adventure-works\\g...|johnny0@adventure...|jtF9jBoFYeJTaET7x...|    wVLnvHo=|947BCAF1-1F32-44F...|  01-08-2006|\n",
      "|        16|  Mr.|   Jr.| Bulk Discount Store|adventure-works\\jae0|christopher1@adve...|sKt9daCzEEKWAzivE...|    8KfYx/4=|C9381589-D31C-4EF...|  01-09-2006|\n",
      "|        18|  Mr.|  null|       Catalog Store|adventure-works\\m...|david20@adventure...|61zeTkO+eI5g8GG0s...|    c7Ttvv0=|C04D6B4D-94C6-4C5...|  01-08-2005|\n",
      "|        19|  Mr.|  null|   Center Cycle Shop|adventure-works\\p...|john8@adventure-w...|DzbqWX7B3EK5Dub92...|    zXNgrJw=|69AE5D43-31BE-4B7...|  01-04-2007|\n",
      "|        20|  Ms.|  null|Central Discount ...|adventure-works\\d...|jean1@adventure-w...|o1GVo3vExeNzo0/ct...|    uMsvfdo=|E010C10A-F1C3-4BB...|  01-09-2005|\n",
      "|        21| null|  null|Chic Department S...|adventure-works\\j...|jinghao1@adventur...|IaD5AeqK9mRiIrJi/...|    p6pOqKc=|564E0B42-4609-43D...|  01-09-2006|\n",
      "|        22|  Ms.|  null|      Travel Systems|adventure-works\\j...|linda4@adventure-...|23AwhujCoXYSPiN/B...|    SmyIPjE=|9774AED6-D673-412...|  01-08-2005|\n",
      "|        23|  Mr.|  null|          Bike World|adventure-works\\shu0|kerim0@adventure-...|d0WSjosAd7Y3XOWjN...|    33g5co8=|733F8250-3251-4C2...|  01-09-2006|\n",
      "|        24|  Mr.|  null|Eastside Departme...|adventure-works\\l...|kevin5@adventure-...|ylTpkIOHKLcjihNjS...|    TgZnUOg=|C111E51D-178D-4DB...|  01-09-2006|\n",
      "|        25|  Mr.|  null|Coalition Bike Co...|adventure-works\\shu0|donald0@adventure...|pKYDelLBOZMO98GBz...|    jKtOaOw=|31D03546-FB2A-448...|  01-09-2006|\n",
      "|        28|  Ms.|  null|Commuter Bicycle ...|adventure-works\\j...|jackie0@adventure...|wqhgKfOTfef4Zo3cb...|    SZ+r60o=|9B8A04A4-D909-4F4...|  01-08-2007|\n",
      "+----------+-----+------+--------------------+--------------------+--------------------+--------------------+------------+--------------------+------------+\n",
      "only showing top 20 rows\n",
      "\n"
     ]
    }
   ],
   "source": [
    "df.show()"
   ]
  },
  {
   "cell_type": "code",
   "execution_count": 32,
   "metadata": {},
   "outputs": [],
   "source": [
    "#Renomear colunas\n",
    "df = df.withColumnRenamed(\"SalesPerson\", \"Vendedor\")"
   ]
  },
  {
   "cell_type": "code",
   "execution_count": 33,
   "metadata": {},
   "outputs": [
    {
     "name": "stdout",
     "output_type": "stream",
     "text": [
      "+----------+-----+------+--------------------+--------------------+--------------------+--------------------+------------+--------------------+------------+\n",
      "|CustomerID|Title|Suffix|         CompanyName|            Vendedor|        EmailAddress|        PasswordHash|PasswordSalt|             rowguid|ModifiedDate|\n",
      "+----------+-----+------+--------------------+--------------------+--------------------+--------------------+------------+--------------------+------------+\n",
      "|         1|  Mr.|  null|        A Bike Store|adventure-works\\p...|orlando0@adventur...|L/Rlwxzp4w7RWmEgX...|    1KjXYs4=|3F5AE95E-B87D-4AE...|  01-08-2005|\n",
      "|         2|  Mr.|  null|  Progressive Sports|adventure-works\\d...|keith0@adventure-...|YPdtRdvqeAhj6wyxE...|    fs1ZGhY=|E552F657-A9AF-4A7...|  01-08-2006|\n",
      "|         3|  Ms.|  null|Advanced Bike Com...|adventure-works\\j...|donna0@adventure-...|LNoK27abGQo48gGue...|    YTNH5Rw=|130774B1-DB21-4EF...|  01-09-2005|\n",
      "|         4|  Ms.|  null|Modular Cycle Sys...|adventure-works\\j...|janet1@adventure-...|ElzTpSNbUW1Ut+L5c...|    nm7D5e4=|FF862851-1DAA-404...|  01-07-2006|\n",
      "|         5|  Mr.|  null|Metropolitan Spor...|adventure-works\\shu0|lucy0@adventure-w...|KJqV15wsX3PG8TS5G...|    cNFKU4w=|83905BDC-6F5E-4F7...|  01-09-2006|\n",
      "|         6|  Ms.|  null|Aerobic Exercise ...|adventure-works\\l...|rosmarie0@adventu...|OKT0scizCdIzymHHO...|    ihWf50M=|1A92DF88-BFA2-467...|  01-09-2007|\n",
      "|         7|  Mr.|  null|    Associated Bikes|adventure-works\\shu0|dominic0@adventur...|ZccoP/jZGQm+Xpzc7...|    sPoUBSQ=|03E9273E-B193-448...|  01-07-2006|\n",
      "|        10|  Ms.|  null|Rural Cycle Emporium|adventure-works\\j...|kathleen0@adventu...|Qa3aMCxNbVLGrc0b9...|    Ls05W3g=|CDB6698D-2FF1-4FB...|  01-09-2006|\n",
      "|        11|  Ms.|  null|         Sharp Bikes|adventure-works\\j...|katherine0@advent...|uRlorVzDGNJIX9I+e...|    jpHKbqE=|750F3495-59C4-48A...|  01-08-2005|\n",
      "|        12|  Mr.|   Jr.|Bikes and Motorbikes|adventure-works\\g...|johnny0@adventure...|jtF9jBoFYeJTaET7x...|    wVLnvHo=|947BCAF1-1F32-44F...|  01-08-2006|\n",
      "|        16|  Mr.|   Jr.| Bulk Discount Store|adventure-works\\jae0|christopher1@adve...|sKt9daCzEEKWAzivE...|    8KfYx/4=|C9381589-D31C-4EF...|  01-09-2006|\n",
      "|        18|  Mr.|  null|       Catalog Store|adventure-works\\m...|david20@adventure...|61zeTkO+eI5g8GG0s...|    c7Ttvv0=|C04D6B4D-94C6-4C5...|  01-08-2005|\n",
      "|        19|  Mr.|  null|   Center Cycle Shop|adventure-works\\p...|john8@adventure-w...|DzbqWX7B3EK5Dub92...|    zXNgrJw=|69AE5D43-31BE-4B7...|  01-04-2007|\n",
      "|        20|  Ms.|  null|Central Discount ...|adventure-works\\d...|jean1@adventure-w...|o1GVo3vExeNzo0/ct...|    uMsvfdo=|E010C10A-F1C3-4BB...|  01-09-2005|\n",
      "|        21| null|  null|Chic Department S...|adventure-works\\j...|jinghao1@adventur...|IaD5AeqK9mRiIrJi/...|    p6pOqKc=|564E0B42-4609-43D...|  01-09-2006|\n",
      "|        22|  Ms.|  null|      Travel Systems|adventure-works\\j...|linda4@adventure-...|23AwhujCoXYSPiN/B...|    SmyIPjE=|9774AED6-D673-412...|  01-08-2005|\n",
      "|        23|  Mr.|  null|          Bike World|adventure-works\\shu0|kerim0@adventure-...|d0WSjosAd7Y3XOWjN...|    33g5co8=|733F8250-3251-4C2...|  01-09-2006|\n",
      "|        24|  Mr.|  null|Eastside Departme...|adventure-works\\l...|kevin5@adventure-...|ylTpkIOHKLcjihNjS...|    TgZnUOg=|C111E51D-178D-4DB...|  01-09-2006|\n",
      "|        25|  Mr.|  null|Coalition Bike Co...|adventure-works\\shu0|donald0@adventure...|pKYDelLBOZMO98GBz...|    jKtOaOw=|31D03546-FB2A-448...|  01-09-2006|\n",
      "|        28|  Ms.|  null|Commuter Bicycle ...|adventure-works\\j...|jackie0@adventure...|wqhgKfOTfef4Zo3cb...|    SZ+r60o=|9B8A04A4-D909-4F4...|  01-08-2007|\n",
      "+----------+-----+------+--------------------+--------------------+--------------------+--------------------+------------+--------------------+------------+\n",
      "only showing top 20 rows\n",
      "\n"
     ]
    }
   ],
   "source": [
    "df.show()"
   ]
  },
  {
   "cell_type": "code",
   "execution_count": 34,
   "metadata": {},
   "outputs": [],
   "source": [
    "#selecionar colunas\n",
    "df = df.select('Title')"
   ]
  },
  {
   "cell_type": "code",
   "execution_count": 35,
   "metadata": {},
   "outputs": [
    {
     "name": "stdout",
     "output_type": "stream",
     "text": [
      "+-----+\n",
      "|Title|\n",
      "+-----+\n",
      "| null|\n",
      "| null|\n",
      "| null|\n",
      "| null|\n",
      "| null|\n",
      "| null|\n",
      "| null|\n",
      "|  Mr.|\n",
      "|  Mr.|\n",
      "|  Mr.|\n",
      "|  Mr.|\n",
      "|  Mr.|\n",
      "|  Mr.|\n",
      "|  Mr.|\n",
      "|  Mr.|\n",
      "|  Mr.|\n",
      "|  Mr.|\n",
      "|  Mr.|\n",
      "|  Mr.|\n",
      "|  Mr.|\n",
      "+-----+\n",
      "only showing top 20 rows\n",
      "\n"
     ]
    }
   ],
   "source": [
    "#ordenar\n",
    "df.sort(\"Title\").show()"
   ]
  },
  {
   "cell_type": "code",
   "execution_count": 38,
   "metadata": {},
   "outputs": [],
   "source": [
    "#recriando\n",
    "df = spark.read.csv(\"/user/spark-aula/customer.csv\", sep =',', header = True)"
   ]
  },
  {
   "cell_type": "code",
   "execution_count": 39,
   "metadata": {},
   "outputs": [
    {
     "name": "stdout",
     "output_type": "stream",
     "text": [
      "+----------+-----+------+--------------------+--------------------+--------------------+--------------------+------------+--------------------+------------+\n",
      "|CustomerID|Title|Suffix|         CompanyName|         SalesPerson|        EmailAddress|        PasswordHash|PasswordSalt|             rowguid|ModifiedDate|\n",
      "+----------+-----+------+--------------------+--------------------+--------------------+--------------------+------------+--------------------+------------+\n",
      "|     29768|  Mr.|  null|   Riding Excursions|adventure-works\\l...|michael15@adventu...|Wwwn13Huxc1/wSvPm...|    x+UpoXE=|C5614F21-602E-49E...|  01-01-2006|\n",
      "|     29858|  Mr.|  null|Synthetic Materia...|adventure-works\\p...|george1@adventure...|BEq/PlDx4jHq8M8eO...|    GVMmXow=|44A21C41-BFC8-455...|  01-01-2006|\n",
      "|       456|  Mr.|  null|   Riding Excursions|adventure-works\\l...|michael15@adventu...|Wwwn13Huxc1/wSvPm...|    x+UpoXE=|71FCE014-2BD7-407...|  01-01-2006|\n",
      "|       577|  Mr.|  null|Synthetic Materia...|adventure-works\\p...|george1@adventure...|BEq/PlDx4jHq8M8eO...|    GVMmXow=|4FD75307-57E3-44B...|  01-01-2006|\n",
      "|       462|  Mr.|  null|General Riding Su...|adventure-works\\g...|bob1@adventure-wo...|SeCchhGjoFaNiCwjU...|    hZbeVTs=|5C085E79-91EE-485...|  01-02-2007|\n",
      "|     30040|  Ms.|  null|Major Sporting Goods|adventure-works\\l...|kayla0@adventure-...|iqikbQl8bEZb+ulQM...|    ZqTw9GM=|E6D036B6-1FAA-44C...|  01-02-2007|\n",
      "|       598|  Mr.|  null|Black Bicycle Com...|adventure-works\\j...|derik0@adventure-...|eiskTIJrt6kqa7sel...|    0rK3P2k=|677DA2FB-A3EF-4EB...|  01-02-2007|\n",
      "|       625|  Ms.|  null|Major Sporting Goods|adventure-works\\l...|kayla0@adventure-...|iqikbQl8bEZb+ulQM...|    ZqTw9GM=|8E200319-3DBD-43A...|  01-02-2007|\n",
      "|     30032|  Mr.|  null|Black Bicycle Com...|adventure-works\\j...|derik0@adventure-...|eiskTIJrt6kqa7sel...|    0rK3P2k=|2C8B69DF-E0B4-41F...|  01-02-2007|\n",
      "|     29766|  Mr.|  null|General Riding Su...|adventure-works\\g...|bob1@adventure-wo...|SeCchhGjoFaNiCwjU...|    hZbeVTs=|9EFB3752-7F40-4E6...|  01-02-2007|\n",
      "|     29978|  Mr.|  null|Shipping Specialists|adventure-works\\jae0|ajay0@adventure-w...|eVyn3oU+PF4k5dUPO...|    MYqiM6w=|B6EF4AC3-0E63-4FB...|  01-02-2008|\n",
      "|       659|  Mr.|  null|Shipping Specialists|adventure-works\\jae0|ajay0@adventure-w...|eVyn3oU+PF4k5dUPO...|    MYqiM6w=|A2098F7B-3D3A-489...|  01-02-2008|\n",
      "|       580|  Mr.|  null|Rural Sales and S...|adventure-works\\j...|joshua0@adventure...|zOvX8kRn4fdhAQJxa...|    HQlRLlk=|FE870DE4-818A-495...|  01-03-2006|\n",
      "|     29859|  Mr.|  null|Rural Sales and S...|adventure-works\\j...|joshua0@adventure...|zOvX8kRn4fdhAQJxa...|    HQlRLlk=|B5E28EBD-35EC-4B5...|  01-03-2006|\n",
      "|       219|  Mr.|  null|Extras Sporting G...|adventure-works\\j...|brian6@adventure-...|TGnRB6vDbV0LZss8t...|    2t9hMlk=|D39CCCE3-C4A6-441...|  01-03-2007|\n",
      "|     29884|  Mr.|  null|Extras Sporting G...|adventure-works\\j...|brian6@adventure-...|TGnRB6vDbV0LZss8t...|    2t9hMlk=|0BA43373-59D8-4B1...|  01-03-2007|\n",
      "|     29545|  Mr.|  null|   Center Cycle Shop|adventure-works\\p...|john8@adventure-w...|DzbqWX7B3EK5Dub92...|    zXNgrJw=|38DC2574-509C-4F6...|  01-04-2007|\n",
      "|        19|  Mr.|  null|   Center Cycle Shop|adventure-works\\p...|john8@adventure-w...|DzbqWX7B3EK5Dub92...|    zXNgrJw=|69AE5D43-31BE-4B7...|  01-04-2007|\n",
      "|       564|  Ms.|  null|Imported and Dome...|adventure-works\\l...|michelle0@adventu...|bA9fPVXpV/0NMRuGi...|    M5BkDDQ=|7F79FF5A-E220-46F...|  01-05-2007|\n",
      "|       565|  Mr.|   Jr.|Metallic Paint an...|adventure-works\\shu0|richard0@adventur...|IKeN04oVNJhVCRPh+...|    s71j+uU=|795FED3E-6216-4F6...|  01-05-2007|\n",
      "+----------+-----+------+--------------------+--------------------+--------------------+--------------------+------------+--------------------+------------+\n",
      "only showing top 20 rows\n",
      "\n"
     ]
    }
   ],
   "source": [
    "#ordenar\n",
    "df.sort(\"ModifiedDate\").show()"
   ]
  },
  {
   "cell_type": "code",
   "execution_count": 40,
   "metadata": {},
   "outputs": [
    {
     "name": "stdout",
     "output_type": "stream",
     "text": [
      "root\n",
      " |-- CustomerID: string (nullable = true)\n",
      " |-- Title: string (nullable = true)\n",
      " |-- Suffix: string (nullable = true)\n",
      " |-- CompanyName: string (nullable = true)\n",
      " |-- SalesPerson: string (nullable = true)\n",
      " |-- EmailAddress: string (nullable = true)\n",
      " |-- PasswordHash: string (nullable = true)\n",
      " |-- PasswordSalt: string (nullable = true)\n",
      " |-- rowguid: string (nullable = true)\n",
      " |-- ModifiedDate: string (nullable = true)\n",
      "\n"
     ]
    }
   ],
   "source": [
    "#verificando estrutura do datafram\n",
    "df.printSchema()"
   ]
  },
  {
   "cell_type": "code",
   "execution_count": null,
   "metadata": {},
   "outputs": [],
   "source": []
  },
  {
   "cell_type": "code",
   "execution_count": 41,
   "metadata": {},
   "outputs": [
    {
     "name": "stdout",
     "output_type": "stream",
     "text": [
      "+----------+-----+------+--------------------+--------------------+--------------------+--------------------+------------+--------------------+------------+\n",
      "|CustomerID|Title|Suffix|         CompanyName|         SalesPerson|        EmailAddress|        PasswordHash|PasswordSalt|             rowguid|ModifiedDate|\n",
      "+----------+-----+------+--------------------+--------------------+--------------------+--------------------+------------+--------------------+------------+\n",
      "|         1|  Mr.|  null|        A Bike Store|adventure-works\\p...|orlando0@adventur...|L/Rlwxzp4w7RWmEgX...|    1KjXYs4=|3F5AE95E-B87D-4AE...|  01-08-2005|\n",
      "|         2|  Mr.|  null|  Progressive Sports|adventure-works\\d...|keith0@adventure-...|YPdtRdvqeAhj6wyxE...|    fs1ZGhY=|E552F657-A9AF-4A7...|  01-08-2006|\n",
      "|         5|  Mr.|  null|Metropolitan Spor...|adventure-works\\shu0|lucy0@adventure-w...|KJqV15wsX3PG8TS5G...|    cNFKU4w=|83905BDC-6F5E-4F7...|  01-09-2006|\n",
      "|         7|  Mr.|  null|    Associated Bikes|adventure-works\\shu0|dominic0@adventur...|ZccoP/jZGQm+Xpzc7...|    sPoUBSQ=|03E9273E-B193-448...|  01-07-2006|\n",
      "|        12|  Mr.|   Jr.|Bikes and Motorbikes|adventure-works\\g...|johnny0@adventure...|jtF9jBoFYeJTaET7x...|    wVLnvHo=|947BCAF1-1F32-44F...|  01-08-2006|\n",
      "|        16|  Mr.|   Jr.| Bulk Discount Store|adventure-works\\jae0|christopher1@adve...|sKt9daCzEEKWAzivE...|    8KfYx/4=|C9381589-D31C-4EF...|  01-09-2006|\n",
      "|        18|  Mr.|  null|       Catalog Store|adventure-works\\m...|david20@adventure...|61zeTkO+eI5g8GG0s...|    c7Ttvv0=|C04D6B4D-94C6-4C5...|  01-08-2005|\n",
      "|        19|  Mr.|  null|   Center Cycle Shop|adventure-works\\p...|john8@adventure-w...|DzbqWX7B3EK5Dub92...|    zXNgrJw=|69AE5D43-31BE-4B7...|  01-04-2007|\n",
      "|        23|  Mr.|  null|          Bike World|adventure-works\\shu0|kerim0@adventure-...|d0WSjosAd7Y3XOWjN...|    33g5co8=|733F8250-3251-4C2...|  01-09-2006|\n",
      "|        24|  Mr.|  null|Eastside Departme...|adventure-works\\l...|kevin5@adventure-...|ylTpkIOHKLcjihNjS...|    TgZnUOg=|C111E51D-178D-4DB...|  01-09-2006|\n",
      "|        25|  Mr.|  null|Coalition Bike Co...|adventure-works\\shu0|donald0@adventure...|pKYDelLBOZMO98GBz...|    jKtOaOw=|31D03546-FB2A-448...|  01-09-2006|\n",
      "|        29|  Mr.|  null|Cross-Country Rid...|adventure-works\\j...|bryan2@adventure-...|ftRWIIT4oF+if+ddn...|    IRNPDIw=|ECA7C8FA-490B-4B9...|  01-08-2005|\n",
      "|        30|  Mr.|  null|     Cycle Merchants|adventure-works\\g...|todd0@adventure-w...|FV6z03ywMJOumcU+T...|    mFRhaEg=|2B15DFB1-831E-49E...|  01-09-2006|\n",
      "|        37|  Mr.|  null|      Two Bike Shops|adventure-works\\p...|jim1@adventure-wo...|cvqeC4fJcKwJ9jllu...|    ot8WcXk=|C6EBB29A-CC67-459...|  01-09-2006|\n",
      "|        40|  Mr.|  null|Journey Sporting ...|adventure-works\\j...|darren0@adventure...|kqptixZ7LqTuOKcc7...|    Xe7grug=|AA5E28F6-16C8-4D8...|  01-08-2005|\n",
      "|        42|  Mr.|  null|Healthy Activity ...|adventure-works\\l...|jeremy0@adventure...|jLMkpmNutZFzWw7sS...|    JK9/WX8=|64ACD300-337D-4D3...|  01-07-2006|\n",
      "|        46|  Mr.|  null|Gear-Shift Bikes ...|adventure-works\\j...|david19@adventure...|HyZexVTTLfKfhx/Sb...|    /kc6RdY=|21849ECF-88C2-457...|  01-12-2006|\n",
      "|        55|  Mr.|  null|Kickstands and Ac...|adventure-works\\p...|eric6@adventure-w...|katp5sn21ZqJq5Z26...|    xw9RymE=|F5D3997B-AD06-46A...|  01-09-2007|\n",
      "|        56|  Mr.|  null|Latest Accessorie...|adventure-works\\d...|brian5@adventure-...|tbk7TwAC5jsqEhFRR...|    hpOsvJU=|570B1682-9BB1-435...|  01-08-2006|\n",
      "|        58|  Mr.|  null|  Largest Bike Store|adventure-works\\j...|peter4@adventure-...|el1s9e+hWeb+79bwr...|    QgzjTPU=|E324FEE8-1EE7-4B9...|  01-11-2005|\n",
      "+----------+-----+------+--------------------+--------------------+--------------------+--------------------+------------+--------------------+------------+\n",
      "only showing top 20 rows\n",
      "\n"
     ]
    }
   ],
   "source": [
    "#filtrando valores\n",
    "df.filter((df.Title==\"Mr.\")).show()"
   ]
  },
  {
   "cell_type": "code",
   "execution_count": 42,
   "metadata": {},
   "outputs": [
    {
     "name": "stdout",
     "output_type": "stream",
     "text": [
      "+----------+-----+--------------------+------------+\n",
      "|CustomerID|Title|         CompanyName|ModifiedDate|\n",
      "+----------+-----+--------------------+------------+\n",
      "|         1|  Mr.|        A Bike Store|  01-08-2005|\n",
      "|         2|  Mr.|  Progressive Sports|  01-08-2006|\n",
      "|         3|  Ms.|Advanced Bike Com...|  01-09-2005|\n",
      "|         4|  Ms.|Modular Cycle Sys...|  01-07-2006|\n",
      "|         5|  Mr.|Metropolitan Spor...|  01-09-2006|\n",
      "|         6|  Ms.|Aerobic Exercise ...|  01-09-2007|\n",
      "|         7|  Mr.|    Associated Bikes|  01-07-2006|\n",
      "|        10|  Ms.|Rural Cycle Emporium|  01-09-2006|\n",
      "|        11|  Ms.|         Sharp Bikes|  01-08-2005|\n",
      "|        12|  Mr.|Bikes and Motorbikes|  01-08-2006|\n",
      "|        16|  Mr.| Bulk Discount Store|  01-09-2006|\n",
      "|        18|  Mr.|       Catalog Store|  01-08-2005|\n",
      "|        19|  Mr.|   Center Cycle Shop|  01-04-2007|\n",
      "|        20|  Ms.|Central Discount ...|  01-09-2005|\n",
      "|        21| null|Chic Department S...|  01-09-2006|\n",
      "|        22|  Ms.|      Travel Systems|  01-08-2005|\n",
      "|        23|  Mr.|          Bike World|  01-09-2006|\n",
      "|        24|  Mr.|Eastside Departme...|  01-09-2006|\n",
      "|        25|  Mr.|Coalition Bike Co...|  01-09-2006|\n",
      "|        28|  Ms.|Commuter Bicycle ...|  01-08-2007|\n",
      "+----------+-----+--------------------+------------+\n",
      "only showing top 20 rows\n",
      "\n"
     ]
    }
   ],
   "source": [
    "#criando novo df com colunas selecionadas\n",
    "df = df.select(\"CustomerID\", \"Title\", \"CompanyName\", \"ModifiedDate\")\n",
    "df.show()"
   ]
  },
  {
   "cell_type": "code",
   "execution_count": 50,
   "metadata": {},
   "outputs": [
    {
     "name": "stdout",
     "output_type": "stream",
     "text": [
      "+----------+-----+-----------+------------+\n",
      "|CustomerID|Title|CompanyName|ModifiedDate|\n",
      "+----------+-----+-----------+------------+\n",
      "|        11|  Ms.|Sharp Bikes|  01-08-2005|\n",
      "|     29813|  Ms.|Sharp Bikes|  01-08-2005|\n",
      "+----------+-----+-----------+------------+\n",
      "\n"
     ]
    }
   ],
   "source": [
    "#filtrando valores\n",
    "df.filter((df.Title==\"Ms.\") & (df.CompanyName=='Sharp Bikes')).show()"
   ]
  },
  {
   "cell_type": "code",
   "execution_count": 51,
   "metadata": {},
   "outputs": [
    {
     "name": "stdout",
     "output_type": "stream",
     "text": [
      "+--------------------+---------------+\n",
      "|         CompanyName|sum(CustomerID)|\n",
      "+--------------------+---------------+\n",
      "|   Mail-Order Outlet|        30455.0|\n",
      "|      Westside Plaza|        30240.0|\n",
      "|Tachometers and A...|        30341.0|\n",
      "|Historic Bicycle ...|        30070.0|\n",
      "|Discount Bicycle ...|        29797.0|\n",
      "|  Basic Bike Company|        30090.0|\n",
      "|       Roving Sports|        30120.0|\n",
      "|  General Industries|        30126.0|\n",
      "|Acceptable Sales ...|        30275.0|\n",
      "|Non-Slip Pedal Co...|        30083.0|\n",
      "|Synthetic Materia...|        30435.0|\n",
      "|         More Bikes!|        30040.0|\n",
      "|Primary Bike Dist...|        30125.0|\n",
      "|    Fifth Bike Store|        29950.0|\n",
      "|Bikes for Kids an...|        30304.0|\n",
      "|     Cycle Clearance|        30626.0|\n",
      "|Rural Department ...|        29726.0|\n",
      "|Healthy Activity ...|           42.0|\n",
      "|Vintage Sport Bou...|        30180.0|\n",
      "|Bicycle Merchandi...|        30237.0|\n",
      "+--------------------+---------------+\n",
      "only showing top 20 rows\n",
      "\n"
     ]
    }
   ],
   "source": [
    "#agrupando\n",
    "from pyspark.sql import functions as F\n",
    "\n",
    "df.groupBy([\"CompanyName\"]).agg(F.sum(\"CustomerID\")).show()"
   ]
  },
  {
   "cell_type": "code",
   "execution_count": 52,
   "metadata": {},
   "outputs": [
    {
     "name": "stdout",
     "output_type": "stream",
     "text": [
      "+--------------------+-------------------+\n",
      "|         CompanyName|quantidade_clientes|\n",
      "+--------------------+-------------------+\n",
      "|   Mail-Order Outlet|            30455.0|\n",
      "|      Westside Plaza|            30240.0|\n",
      "|Tachometers and A...|            30341.0|\n",
      "|Historic Bicycle ...|            30070.0|\n",
      "|Discount Bicycle ...|            29797.0|\n",
      "|  Basic Bike Company|            30090.0|\n",
      "|       Roving Sports|            30120.0|\n",
      "|  General Industries|            30126.0|\n",
      "|Acceptable Sales ...|            30275.0|\n",
      "|Non-Slip Pedal Co...|            30083.0|\n",
      "|Synthetic Materia...|            30435.0|\n",
      "|         More Bikes!|            30040.0|\n",
      "|Primary Bike Dist...|            30125.0|\n",
      "|    Fifth Bike Store|            29950.0|\n",
      "|Bikes for Kids an...|            30304.0|\n",
      "|     Cycle Clearance|            30626.0|\n",
      "|Rural Department ...|            29726.0|\n",
      "|Healthy Activity ...|               42.0|\n",
      "|Vintage Sport Bou...|            30180.0|\n",
      "|Bicycle Merchandi...|            30237.0|\n",
      "+--------------------+-------------------+\n",
      "only showing top 20 rows\n",
      "\n"
     ]
    }
   ],
   "source": [
    "#utilizand alias (apelidos)\n",
    "df.groupBy([\"CompanyName\"]).agg(F.sum(\"CustomerID\").alias(\"quantidade_clientes\")).show()"
   ]
  },
  {
   "cell_type": "code",
   "execution_count": 53,
   "metadata": {},
   "outputs": [],
   "source": [
    "# Novo DF para  JOIN\n",
    "df_ad = spark.read.csv(\"/user/spark-aula/customeraddress.csv\", sep =',', header = True)"
   ]
  },
  {
   "cell_type": "code",
   "execution_count": 54,
   "metadata": {},
   "outputs": [
    {
     "name": "stdout",
     "output_type": "stream",
     "text": [
      "root\n",
      " |-- CustomerID: string (nullable = true)\n",
      " |-- AddressID: string (nullable = true)\n",
      " |-- rowguid: string (nullable = true)\n",
      " |-- ModifiedDate: string (nullable = true)\n",
      "\n"
     ]
    }
   ],
   "source": [
    "#validando Schema\n",
    "df_ad.printSchema()"
   ]
  },
  {
   "cell_type": "code",
   "execution_count": 55,
   "metadata": {},
   "outputs": [
    {
     "name": "stdout",
     "output_type": "stream",
     "text": [
      "+----------+-----+-----------------------------------+------------+----------+---------+------------------------------------+------------+\n",
      "|CustomerID|Title|CompanyName                        |ModifiedDate|CustomerID|AddressID|rowguid                             |ModifiedDate|\n",
      "+----------+-----+-----------------------------------+------------+----------+---------+------------------------------------+------------+\n",
      "|29485     |Ms.  |Professional Sales and Service     |16-05-2009  |29485     |1086     |16765338-DBE4-4421-B5E9-3836B9278E63|01-09-2007  |\n",
      "|29486     |Ms.  |Riders Company                     |16-05-2009  |29486     |621      |22B3E910-14AF-4ED5-8B4D-23BBE757414D|01-09-2005  |\n",
      "|29489     |Ms.  |Area Bike Accessories              |16-05-2009  |29489     |1069     |A095C88B-D7E6-4178-A078-2ECA44214801|01-07-2005  |\n",
      "|29490     |Ms.  |Bicycle Accessories and Kits       |16-05-2009  |29490     |887      |F12E1702-D897-4035-B614-0FE2C72168A9|01-09-2006  |\n",
      "|29492     |Mr.  |Valley Bicycle Specialists         |16-05-2009  |29492     |618      |5B3B3EB2-3F43-47ED-A20C-23697DABF23B|01-12-2006  |\n",
      "|29494     |Mr.  |Vinyl and Plastic Goods Corporation|01-09-2005  |29494     |537      |492D92B6-31AF-47EA-8E00-7C11C7CCC20D|01-09-2005  |\n",
      "|29496     |Mr.  |Fun Toys and Bikes                 |01-09-2007  |29496     |1072     |0A66B0F3-24BC-4148-9661-26E935CEC99A|01-09-2007  |\n",
      "|29497     |Mr.  |Great Bikes                        |01-07-2005  |29497     |889      |7E0B56FD-7324-4898-BEDB-2F56A843BB0F|01-07-2005  |\n",
      "|29499     |Ms.  |Valley Toy Store                   |01-09-2006  |29499     |527      |C90CB0C3-976A-4075-A2B9-13136F4F1A92|01-09-2006  |\n",
      "|29502     |Mr.  |Major Sport Suppliers              |01-07-2007  |29502     |893      |8ACB1C6A-7CDF-417B-AFD5-9F4C642F3C7E|01-07-2007  |\n",
      "|29503     |Mr.  |Family's Favorite Bike Shop        |01-08-2006  |29503     |541      |6811DBE3-1F02-440C-932E-A54F403B3E51|01-08-2006  |\n",
      "|29503     |Mr.  |Family's Favorite Bike Shop        |01-08-2006  |29503     |32       |BE00FFC6-194B-44E9-A129-DFBEB8F1301F|01-08-2006  |\n",
      "|29505     |Ms.  |Imported and Domestic Cycles       |01-05-2007  |29505     |1083     |740A06AF-77F1-45CA-B284-38537324F86A|01-05-2007  |\n",
      "|29506     |Mr.  |Systematic Sales                   |01-08-2007  |29506     |1082     |DD51A14D-45F5-44E9-BF3B-260F0E08E545|01-08-2007  |\n",
      "|29508     |Mr.  |Mountain Toy Store                 |01-12-2005  |29508     |619      |2DD326F6-02DA-44B7-96FB-B3A86067C5EE|01-12-2005  |\n",
      "|29510     |Mr.  |Designated Distributors            |01-08-2005  |29510     |540      |AF6DCC27-DCCB-40DE-9445-3F4990AABD28|01-08-2005  |\n",
      "|29511     |Mr.  |Bold Bike Accessories              |01-08-2005  |29511     |1046     |61CB8C51-7C96-4306-8050-56C90504972B|01-08-2005  |\n",
      "|29515     |Mr.  |Serious Cycles                     |01-08-2005  |29515     |504      |A5F1A232-3CCE-4149-9892-DE9895BC0F07|01-08-2005  |\n",
      "|29517     |Ms.  |Novelty Bikes                      |01-08-2007  |29517     |794      |DB4D3044-7BF4-4D65-B48E-3FF927A842F0|01-08-2007  |\n",
      "|29521     |Mr.  |Brightwork Company                 |01-08-2005  |29521     |1054     |C0F708C3-9147-44C4-B6CB-FD5B765343C0|01-08-2005  |\n",
      "+----------+-----+-----------------------------------+------------+----------+---------+------------------------------------+------------+\n",
      "only showing top 20 rows\n",
      "\n"
     ]
    }
   ],
   "source": [
    "#JOIN\n",
    "df.join(df_ad,df_ad.CustomerID ==  df.CustomerID,\"inner\").show(truncate=False)"
   ]
  },
  {
   "cell_type": "code",
   "execution_count": 56,
   "metadata": {},
   "outputs": [],
   "source": [
    "#novo df\n",
    "df_tb = df.join(df_ad,df_ad.CustomerID ==  df.CustomerID,\"inner\")"
   ]
  },
  {
   "cell_type": "code",
   "execution_count": 57,
   "metadata": {},
   "outputs": [
    {
     "name": "stdout",
     "output_type": "stream",
     "text": [
      "+----------+-----+--------------------+------------+----------+---------+--------------------+------------+\n",
      "|CustomerID|Title|         CompanyName|ModifiedDate|CustomerID|AddressID|             rowguid|ModifiedDate|\n",
      "+----------+-----+--------------------+------------+----------+---------+--------------------+------------+\n",
      "|     29485|  Ms.|Professional Sale...|  16-05-2009|     29485|     1086|16765338-DBE4-442...|  01-09-2007|\n",
      "|     29486|  Ms.|      Riders Company|  16-05-2009|     29486|      621|22B3E910-14AF-4ED...|  01-09-2005|\n",
      "|     29489|  Ms.|Area Bike Accesso...|  16-05-2009|     29489|     1069|A095C88B-D7E6-417...|  01-07-2005|\n",
      "|     29490|  Ms.|Bicycle Accessori...|  16-05-2009|     29490|      887|F12E1702-D897-403...|  01-09-2006|\n",
      "|     29492|  Mr.|Valley Bicycle Sp...|  16-05-2009|     29492|      618|5B3B3EB2-3F43-47E...|  01-12-2006|\n",
      "|     29494|  Mr.|Vinyl and Plastic...|  01-09-2005|     29494|      537|492D92B6-31AF-47E...|  01-09-2005|\n",
      "|     29496|  Mr.|  Fun Toys and Bikes|  01-09-2007|     29496|     1072|0A66B0F3-24BC-414...|  01-09-2007|\n",
      "|     29497|  Mr.|        Great Bikes |  01-07-2005|     29497|      889|7E0B56FD-7324-489...|  01-07-2005|\n",
      "|     29499|  Ms.|    Valley Toy Store|  01-09-2006|     29499|      527|C90CB0C3-976A-407...|  01-09-2006|\n",
      "|     29502|  Mr.|Major Sport Suppl...|  01-07-2007|     29502|      893|8ACB1C6A-7CDF-417...|  01-07-2007|\n",
      "|     29503|  Mr.|Family's Favorite...|  01-08-2006|     29503|      541|6811DBE3-1F02-440...|  01-08-2006|\n",
      "|     29503|  Mr.|Family's Favorite...|  01-08-2006|     29503|       32|BE00FFC6-194B-44E...|  01-08-2006|\n",
      "|     29505|  Ms.|Imported and Dome...|  01-05-2007|     29505|     1083|740A06AF-77F1-45C...|  01-05-2007|\n",
      "|     29506|  Mr.|    Systematic Sales|  01-08-2007|     29506|     1082|DD51A14D-45F5-44E...|  01-08-2007|\n",
      "|     29508|  Mr.|  Mountain Toy Store|  01-12-2005|     29508|      619|2DD326F6-02DA-44B...|  01-12-2005|\n",
      "|     29510|  Mr.|Designated Distri...|  01-08-2005|     29510|      540|AF6DCC27-DCCB-40D...|  01-08-2005|\n",
      "|     29511|  Mr.|Bold Bike Accesso...|  01-08-2005|     29511|     1046|61CB8C51-7C96-430...|  01-08-2005|\n",
      "|     29515|  Mr.|      Serious Cycles|  01-08-2005|     29515|      504|A5F1A232-3CCE-414...|  01-08-2005|\n",
      "|     29517|  Ms.|       Novelty Bikes|  01-08-2007|     29517|      794|DB4D3044-7BF4-4D6...|  01-08-2007|\n",
      "|     29521|  Mr.|  Brightwork Company|  01-08-2005|     29521|     1054|C0F708C3-9147-44C...|  01-08-2005|\n",
      "+----------+-----+--------------------+------------+----------+---------+--------------------+------------+\n",
      "only showing top 20 rows\n",
      "\n"
     ]
    }
   ],
   "source": [
    "df_tb.show()"
   ]
  },
  {
   "cell_type": "code",
   "execution_count": 58,
   "metadata": {},
   "outputs": [
    {
     "ename": "AnalysisException",
     "evalue": "'Found duplicate column(s) when inserting into hdfs://namenode:8020/user/spark-aula/join_result: `modifieddate`, `customerid`;'",
     "output_type": "error",
     "traceback": [
      "\u001b[0;31m---------------------------------------------------------------------------\u001b[0m",
      "\u001b[0;31mPy4JJavaError\u001b[0m                             Traceback (most recent call last)",
      "\u001b[0;32m/opt/spark/python/pyspark/sql/utils.py\u001b[0m in \u001b[0;36mdeco\u001b[0;34m(*a, **kw)\u001b[0m\n\u001b[1;32m     62\u001b[0m         \u001b[0;32mtry\u001b[0m\u001b[0;34m:\u001b[0m\u001b[0;34m\u001b[0m\u001b[0;34m\u001b[0m\u001b[0m\n\u001b[0;32m---> 63\u001b[0;31m             \u001b[0;32mreturn\u001b[0m \u001b[0mf\u001b[0m\u001b[0;34m(\u001b[0m\u001b[0;34m*\u001b[0m\u001b[0ma\u001b[0m\u001b[0;34m,\u001b[0m \u001b[0;34m**\u001b[0m\u001b[0mkw\u001b[0m\u001b[0;34m)\u001b[0m\u001b[0;34m\u001b[0m\u001b[0;34m\u001b[0m\u001b[0m\n\u001b[0m\u001b[1;32m     64\u001b[0m         \u001b[0;32mexcept\u001b[0m \u001b[0mpy4j\u001b[0m\u001b[0;34m.\u001b[0m\u001b[0mprotocol\u001b[0m\u001b[0;34m.\u001b[0m\u001b[0mPy4JJavaError\u001b[0m \u001b[0;32mas\u001b[0m \u001b[0me\u001b[0m\u001b[0;34m:\u001b[0m\u001b[0;34m\u001b[0m\u001b[0;34m\u001b[0m\u001b[0m\n",
      "\u001b[0;32m/opt/spark/python/lib/py4j-0.10.7-src.zip/py4j/protocol.py\u001b[0m in \u001b[0;36mget_return_value\u001b[0;34m(answer, gateway_client, target_id, name)\u001b[0m\n\u001b[1;32m    327\u001b[0m                     \u001b[0;34m\"An error occurred while calling {0}{1}{2}.\\n\"\u001b[0m\u001b[0;34m.\u001b[0m\u001b[0;34m\u001b[0m\u001b[0;34m\u001b[0m\u001b[0m\n\u001b[0;32m--> 328\u001b[0;31m                     format(target_id, \".\", name), value)\n\u001b[0m\u001b[1;32m    329\u001b[0m             \u001b[0;32melse\u001b[0m\u001b[0;34m:\u001b[0m\u001b[0;34m\u001b[0m\u001b[0;34m\u001b[0m\u001b[0m\n",
      "\u001b[0;31mPy4JJavaError\u001b[0m: An error occurred while calling o424.csv.\n: org.apache.spark.sql.AnalysisException: Found duplicate column(s) when inserting into hdfs://namenode:8020/user/spark-aula/join_result: `modifieddate`, `customerid`;\n\tat org.apache.spark.sql.util.SchemaUtils$.checkColumnNameDuplication(SchemaUtils.scala:85)\n\tat org.apache.spark.sql.execution.datasources.InsertIntoHadoopFsRelationCommand.run(InsertIntoHadoopFsRelationCommand.scala:65)\n\tat org.apache.spark.sql.execution.command.DataWritingCommandExec.sideEffectResult$lzycompute(commands.scala:104)\n\tat org.apache.spark.sql.execution.command.DataWritingCommandExec.sideEffectResult(commands.scala:102)\n\tat org.apache.spark.sql.execution.command.DataWritingCommandExec.doExecute(commands.scala:122)\n\tat org.apache.spark.sql.execution.SparkPlan$$anonfun$execute$1.apply(SparkPlan.scala:131)\n\tat org.apache.spark.sql.execution.SparkPlan$$anonfun$execute$1.apply(SparkPlan.scala:127)\n\tat org.apache.spark.sql.execution.SparkPlan$$anonfun$executeQuery$1.apply(SparkPlan.scala:155)\n\tat org.apache.spark.rdd.RDDOperationScope$.withScope(RDDOperationScope.scala:151)\n\tat org.apache.spark.sql.execution.SparkPlan.executeQuery(SparkPlan.scala:152)\n\tat org.apache.spark.sql.execution.SparkPlan.execute(SparkPlan.scala:127)\n\tat org.apache.spark.sql.execution.QueryExecution.toRdd$lzycompute(QueryExecution.scala:80)\n\tat org.apache.spark.sql.execution.QueryExecution.toRdd(QueryExecution.scala:80)\n\tat org.apache.spark.sql.DataFrameWriter$$anonfun$runCommand$1.apply(DataFrameWriter.scala:668)\n\tat org.apache.spark.sql.DataFrameWriter$$anonfun$runCommand$1.apply(DataFrameWriter.scala:668)\n\tat org.apache.spark.sql.execution.SQLExecution$$anonfun$withNewExecutionId$1.apply(SQLExecution.scala:78)\n\tat org.apache.spark.sql.execution.SQLExecution$.withSQLConfPropagated(SQLExecution.scala:125)\n\tat org.apache.spark.sql.execution.SQLExecution$.withNewExecutionId(SQLExecution.scala:73)\n\tat org.apache.spark.sql.DataFrameWriter.runCommand(DataFrameWriter.scala:668)\n\tat org.apache.spark.sql.DataFrameWriter.saveToV1Source(DataFrameWriter.scala:276)\n\tat org.apache.spark.sql.DataFrameWriter.save(DataFrameWriter.scala:270)\n\tat org.apache.spark.sql.DataFrameWriter.save(DataFrameWriter.scala:228)\n\tat org.apache.spark.sql.DataFrameWriter.csv(DataFrameWriter.scala:656)\n\tat sun.reflect.NativeMethodAccessorImpl.invoke0(Native Method)\n\tat sun.reflect.NativeMethodAccessorImpl.invoke(NativeMethodAccessorImpl.java:62)\n\tat sun.reflect.DelegatingMethodAccessorImpl.invoke(DelegatingMethodAccessorImpl.java:43)\n\tat java.lang.reflect.Method.invoke(Method.java:498)\n\tat py4j.reflection.MethodInvoker.invoke(MethodInvoker.java:244)\n\tat py4j.reflection.ReflectionEngine.invoke(ReflectionEngine.java:357)\n\tat py4j.Gateway.invoke(Gateway.java:282)\n\tat py4j.commands.AbstractCommand.invokeMethod(AbstractCommand.java:132)\n\tat py4j.commands.CallCommand.execute(CallCommand.java:79)\n\tat py4j.GatewayConnection.run(GatewayConnection.java:238)\n\tat java.lang.Thread.run(Thread.java:748)\n",
      "\nDuring handling of the above exception, another exception occurred:\n",
      "\u001b[0;31mAnalysisException\u001b[0m                         Traceback (most recent call last)",
      "\u001b[0;32m<ipython-input-58-2adefae70307>\u001b[0m in \u001b[0;36m<module>\u001b[0;34m()\u001b[0m\n\u001b[0;32m----> 1\u001b[0;31m \u001b[0mdf_tb\u001b[0m\u001b[0;34m.\u001b[0m\u001b[0mwrite\u001b[0m\u001b[0;34m.\u001b[0m\u001b[0mcsv\u001b[0m\u001b[0;34m(\u001b[0m\u001b[0;34m\"/user/spark-aula/join_result\"\u001b[0m\u001b[0;34m)\u001b[0m\u001b[0;34m\u001b[0m\u001b[0;34m\u001b[0m\u001b[0m\n\u001b[0m",
      "\u001b[0;32m/opt/spark/python/pyspark/sql/readwriter.py\u001b[0m in \u001b[0;36mcsv\u001b[0;34m(self, path, mode, compression, sep, quote, escape, header, nullValue, escapeQuotes, quoteAll, dateFormat, timestampFormat, ignoreLeadingWhiteSpace, ignoreTrailingWhiteSpace, charToEscapeQuoteEscaping, encoding, emptyValue)\u001b[0m\n\u001b[1;32m    927\u001b[0m                        \u001b[0mcharToEscapeQuoteEscaping\u001b[0m\u001b[0;34m=\u001b[0m\u001b[0mcharToEscapeQuoteEscaping\u001b[0m\u001b[0;34m,\u001b[0m\u001b[0;34m\u001b[0m\u001b[0;34m\u001b[0m\u001b[0m\n\u001b[1;32m    928\u001b[0m                        encoding=encoding, emptyValue=emptyValue)\n\u001b[0;32m--> 929\u001b[0;31m         \u001b[0mself\u001b[0m\u001b[0;34m.\u001b[0m\u001b[0m_jwrite\u001b[0m\u001b[0;34m.\u001b[0m\u001b[0mcsv\u001b[0m\u001b[0;34m(\u001b[0m\u001b[0mpath\u001b[0m\u001b[0;34m)\u001b[0m\u001b[0;34m\u001b[0m\u001b[0;34m\u001b[0m\u001b[0m\n\u001b[0m\u001b[1;32m    930\u001b[0m \u001b[0;34m\u001b[0m\u001b[0m\n\u001b[1;32m    931\u001b[0m     \u001b[0;34m@\u001b[0m\u001b[0msince\u001b[0m\u001b[0;34m(\u001b[0m\u001b[0;36m1.5\u001b[0m\u001b[0;34m)\u001b[0m\u001b[0;34m\u001b[0m\u001b[0;34m\u001b[0m\u001b[0m\n",
      "\u001b[0;32m/opt/spark/python/lib/py4j-0.10.7-src.zip/py4j/java_gateway.py\u001b[0m in \u001b[0;36m__call__\u001b[0;34m(self, *args)\u001b[0m\n\u001b[1;32m   1255\u001b[0m         \u001b[0manswer\u001b[0m \u001b[0;34m=\u001b[0m \u001b[0mself\u001b[0m\u001b[0;34m.\u001b[0m\u001b[0mgateway_client\u001b[0m\u001b[0;34m.\u001b[0m\u001b[0msend_command\u001b[0m\u001b[0;34m(\u001b[0m\u001b[0mcommand\u001b[0m\u001b[0;34m)\u001b[0m\u001b[0;34m\u001b[0m\u001b[0;34m\u001b[0m\u001b[0m\n\u001b[1;32m   1256\u001b[0m         return_value = get_return_value(\n\u001b[0;32m-> 1257\u001b[0;31m             answer, self.gateway_client, self.target_id, self.name)\n\u001b[0m\u001b[1;32m   1258\u001b[0m \u001b[0;34m\u001b[0m\u001b[0m\n\u001b[1;32m   1259\u001b[0m         \u001b[0;32mfor\u001b[0m \u001b[0mtemp_arg\u001b[0m \u001b[0;32min\u001b[0m \u001b[0mtemp_args\u001b[0m\u001b[0;34m:\u001b[0m\u001b[0;34m\u001b[0m\u001b[0;34m\u001b[0m\u001b[0m\n",
      "\u001b[0;32m/opt/spark/python/pyspark/sql/utils.py\u001b[0m in \u001b[0;36mdeco\u001b[0;34m(*a, **kw)\u001b[0m\n\u001b[1;32m     67\u001b[0m                                              e.java_exception.getStackTrace()))\n\u001b[1;32m     68\u001b[0m             \u001b[0;32mif\u001b[0m \u001b[0ms\u001b[0m\u001b[0;34m.\u001b[0m\u001b[0mstartswith\u001b[0m\u001b[0;34m(\u001b[0m\u001b[0;34m'org.apache.spark.sql.AnalysisException: '\u001b[0m\u001b[0;34m)\u001b[0m\u001b[0;34m:\u001b[0m\u001b[0;34m\u001b[0m\u001b[0;34m\u001b[0m\u001b[0m\n\u001b[0;32m---> 69\u001b[0;31m                 \u001b[0;32mraise\u001b[0m \u001b[0mAnalysisException\u001b[0m\u001b[0;34m(\u001b[0m\u001b[0ms\u001b[0m\u001b[0;34m.\u001b[0m\u001b[0msplit\u001b[0m\u001b[0;34m(\u001b[0m\u001b[0;34m': '\u001b[0m\u001b[0;34m,\u001b[0m \u001b[0;36m1\u001b[0m\u001b[0;34m)\u001b[0m\u001b[0;34m[\u001b[0m\u001b[0;36m1\u001b[0m\u001b[0;34m]\u001b[0m\u001b[0;34m,\u001b[0m \u001b[0mstackTrace\u001b[0m\u001b[0;34m)\u001b[0m\u001b[0;34m\u001b[0m\u001b[0;34m\u001b[0m\u001b[0m\n\u001b[0m\u001b[1;32m     70\u001b[0m             \u001b[0;32mif\u001b[0m \u001b[0ms\u001b[0m\u001b[0;34m.\u001b[0m\u001b[0mstartswith\u001b[0m\u001b[0;34m(\u001b[0m\u001b[0;34m'org.apache.spark.sql.catalyst.analysis'\u001b[0m\u001b[0;34m)\u001b[0m\u001b[0;34m:\u001b[0m\u001b[0;34m\u001b[0m\u001b[0;34m\u001b[0m\u001b[0m\n\u001b[1;32m     71\u001b[0m                 \u001b[0;32mraise\u001b[0m \u001b[0mAnalysisException\u001b[0m\u001b[0;34m(\u001b[0m\u001b[0ms\u001b[0m\u001b[0;34m.\u001b[0m\u001b[0msplit\u001b[0m\u001b[0;34m(\u001b[0m\u001b[0;34m': '\u001b[0m\u001b[0;34m,\u001b[0m \u001b[0;36m1\u001b[0m\u001b[0;34m)\u001b[0m\u001b[0;34m[\u001b[0m\u001b[0;36m1\u001b[0m\u001b[0;34m]\u001b[0m\u001b[0;34m,\u001b[0m \u001b[0mstackTrace\u001b[0m\u001b[0;34m)\u001b[0m\u001b[0;34m\u001b[0m\u001b[0;34m\u001b[0m\u001b[0m\n",
      "\u001b[0;31mAnalysisException\u001b[0m: 'Found duplicate column(s) when inserting into hdfs://namenode:8020/user/spark-aula/join_result: `modifieddate`, `customerid`;'"
     ]
    }
   ],
   "source": [
    "df_tb.write.csv(\"/user/spark-aula/join_result\")"
   ]
  },
  {
   "cell_type": "code",
   "execution_count": 59,
   "metadata": {},
   "outputs": [],
   "source": [
    "df = df.withColumnRenamed(\"CustomerID\", \"DfCustomerID\").withColumnRenamed(\"modifieddate\", \"ModifyDate\")"
   ]
  },
  {
   "cell_type": "code",
   "execution_count": 60,
   "metadata": {},
   "outputs": [],
   "source": [
    "df_tb = df.join(df_ad,df_ad.CustomerID ==  df.DfCustomerID,\"inner\")"
   ]
  },
  {
   "cell_type": "code",
   "execution_count": 61,
   "metadata": {},
   "outputs": [],
   "source": [
    "df_tb.write.csv(\"/user/spark-aula/join_result2\")"
   ]
  },
  {
   "cell_type": "code",
   "execution_count": 63,
   "metadata": {},
   "outputs": [
    {
     "name": "stdout",
     "output_type": "stream",
     "text": [
      "+------------+-----+--------------------+----------+----------+---------+--------------------+------------+\n",
      "|DfCustomerID|Title|         CompanyName|ModifyDate|CustomerID|AddressID|             rowguid|ModifiedDate|\n",
      "+------------+-----+--------------------+----------+----------+---------+--------------------+------------+\n",
      "|       29485|  Ms.|Professional Sale...|16-05-2009|     29485|     1086|16765338-DBE4-442...|  01-09-2007|\n",
      "|       29486|  Ms.|      Riders Company|16-05-2009|     29486|      621|22B3E910-14AF-4ED...|  01-09-2005|\n",
      "|       29489|  Ms.|Area Bike Accesso...|16-05-2009|     29489|     1069|A095C88B-D7E6-417...|  01-07-2005|\n",
      "|       29490|  Ms.|Bicycle Accessori...|16-05-2009|     29490|      887|F12E1702-D897-403...|  01-09-2006|\n",
      "|       29492|  Mr.|Valley Bicycle Sp...|16-05-2009|     29492|      618|5B3B3EB2-3F43-47E...|  01-12-2006|\n",
      "|       29494|  Mr.|Vinyl and Plastic...|01-09-2005|     29494|      537|492D92B6-31AF-47E...|  01-09-2005|\n",
      "|       29496|  Mr.|  Fun Toys and Bikes|01-09-2007|     29496|     1072|0A66B0F3-24BC-414...|  01-09-2007|\n",
      "|       29497|  Mr.|        Great Bikes |01-07-2005|     29497|      889|7E0B56FD-7324-489...|  01-07-2005|\n",
      "|       29499|  Ms.|    Valley Toy Store|01-09-2006|     29499|      527|C90CB0C3-976A-407...|  01-09-2006|\n",
      "|       29502|  Mr.|Major Sport Suppl...|01-07-2007|     29502|      893|8ACB1C6A-7CDF-417...|  01-07-2007|\n",
      "|       29503|  Mr.|Family's Favorite...|01-08-2006|     29503|      541|6811DBE3-1F02-440...|  01-08-2006|\n",
      "|       29503|  Mr.|Family's Favorite...|01-08-2006|     29503|       32|BE00FFC6-194B-44E...|  01-08-2006|\n",
      "|       29505|  Ms.|Imported and Dome...|01-05-2007|     29505|     1083|740A06AF-77F1-45C...|  01-05-2007|\n",
      "|       29506|  Mr.|    Systematic Sales|01-08-2007|     29506|     1082|DD51A14D-45F5-44E...|  01-08-2007|\n",
      "|       29508|  Mr.|  Mountain Toy Store|01-12-2005|     29508|      619|2DD326F6-02DA-44B...|  01-12-2005|\n",
      "|       29510|  Mr.|Designated Distri...|01-08-2005|     29510|      540|AF6DCC27-DCCB-40D...|  01-08-2005|\n",
      "|       29511|  Mr.|Bold Bike Accesso...|01-08-2005|     29511|     1046|61CB8C51-7C96-430...|  01-08-2005|\n",
      "|       29515|  Mr.|      Serious Cycles|01-08-2005|     29515|      504|A5F1A232-3CCE-414...|  01-08-2005|\n",
      "|       29517|  Ms.|       Novelty Bikes|01-08-2007|     29517|      794|DB4D3044-7BF4-4D6...|  01-08-2007|\n",
      "|       29521|  Mr.|  Brightwork Company|01-08-2005|     29521|     1054|C0F708C3-9147-44C...|  01-08-2005|\n",
      "+------------+-----+--------------------+----------+----------+---------+--------------------+------------+\n",
      "only showing top 20 rows\n",
      "\n"
     ]
    }
   ],
   "source": [
    "df.join(df_ad,df_ad.CustomerID ==  df.DfCustomerID,\"cross\").show()"
   ]
  },
  {
   "cell_type": "code",
   "execution_count": null,
   "metadata": {},
   "outputs": [],
   "source": []
  }
 ],
 "metadata": {
  "kernelspec": {
   "display_name": "PySpark",
   "language": "python",
   "name": "pyspark"
  },
  "language_info": {
   "codemirror_mode": {
    "name": "ipython",
    "version": 3
   },
   "file_extension": ".py",
   "mimetype": "text/x-python",
   "name": "python",
   "nbconvert_exporter": "python",
   "pygments_lexer": "ipython3",
   "version": "3.6.10"
  }
 },
 "nbformat": 4,
 "nbformat_minor": 2
}
